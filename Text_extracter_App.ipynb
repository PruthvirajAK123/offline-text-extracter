{
 "cells": [
  {
   "cell_type": "code",
   "execution_count": null,
   "id": "e89f4f17-cad4-4d17-9010-fb611b26f62f",
   "metadata": {},
   "outputs": [],
   "source": []
  },
  {
   "cell_type": "code",
   "execution_count": null,
   "id": "16a9086a-cbfe-4019-bff0-d071ec9536dd",
   "metadata": {},
   "outputs": [],
   "source": []
  },
  {
   "cell_type": "code",
   "execution_count": null,
   "id": "71fdf7ac-0d14-4692-8821-4362797342e2",
   "metadata": {},
   "outputs": [],
   "source": []
  },
  {
   "cell_type": "code",
   "execution_count": null,
   "id": "233d315c-06b5-43d6-ba43-b39817dbe5e3",
   "metadata": {},
   "outputs": [],
   "source": []
  },
  {
   "cell_type": "code",
   "execution_count": 2,
   "id": "1e6e3cc5-c14b-4903-a123-8da7f1116146",
   "metadata": {},
   "outputs": [
    {
     "name": "stdout",
     "output_type": "stream",
     "text": [
      "done\n",
      "‘Japan’: 80, 'China': 458, ‘India’: 200, 'USA': 250}\n",
      "\"Brazil': 100,'China': 5@@, ‘India’: 210,'USA': 260}\n",
      "\n",
      "done\n",
      "coer\n",
      "\n",
      "Trusted # | Python 3 [e)\n",
      "\n",
      "Tabs Settings Help\n",
      "\n",
      "File Edit View Insert Cell Kernel Widgets Help Text extracter App.ipynb\n",
      "in [20]: |# Lmaginary sales vata for ist ana 2Zna yuarters for Global Lome - c » Code\n",
      "\n",
      "ql = {'Japan': 80, 'China': 450, ‘India’: 200, 'USA': 250}\n",
      "\n",
      "q2 = {'Brazil': 100,'China': 500, ‘India’: 210,'USA': 260}\n",
      "\n",
      "In [21]: sales_qi = pd.Series(q1)\n",
      "\n",
      "In [ ]: sales_qQ|\n",
      "\n",
      "\n",
      "done\n",
      "{‘Japan’: 80, ‘China’: 450, ‘India’: 200, ‘USA’: 250}\n",
      "{'Brazil': 100,'China': 500, ‘India’: 210,'USA': 260}\n",
      "\n"
     ]
    }
   ],
   "source": [
    "import time\n",
    "import cv2\n",
    "import keyboard\n",
    "import pyautogui\n",
    "import cv2\n",
    "import matplotlib.pyplot as plt\n",
    "from PIL import Image\n",
    "from pytesseract import pytesseract\n",
    "while True:\n",
    "    #time.sleep(1)\n",
    "    if keyboard.read_key() == \"a\":\n",
    "        break\n",
    "    elif keyboard.read_key() == \"q\":\n",
    "        time.sleep(1)\n",
    "        print('done')\n",
    "        start = pyautogui.position()\n",
    "        pyautogui.click()\n",
    "        time.sleep(2)\n",
    "        end = pyautogui.position()\n",
    "        # Capture the screenshot of the selected region\n",
    "        screenshot = pyautogui.screenshot(region=(start.x, start.y,end.x-start.x, end.y-start.y))\n",
    "\n",
    "        # Save the screensho\n",
    "        screenshot.save('scre.png')\n",
    "        #Define path to tessaract.exe\n",
    "        path_to_tesseract = r'C:\\Program Files\\Tesseract-OCR\\tesseract.exe'\n",
    "\n",
    "        #Define path to image\n",
    "        #path_to_image = 'DATA/uspassport.jpg'\n",
    "\n",
    "        #Point tessaract_cmd to tessaract.exe\n",
    "        pytesseract.tesseract_cmd = path_to_tesseract\n",
    "\n",
    "        #Open image with PIL\n",
    "        #img = Image.open(path_to_image)\n",
    "\n",
    "        #Extract text from image\n",
    "        text = pytesseract.image_to_string(screenshot)\n",
    "\n",
    "        print(text)\n"
   ]
  },
  {
   "cell_type": "code",
   "execution_count": null,
   "id": "7eaee29c-2856-40d0-8782-d865969490cb",
   "metadata": {},
   "outputs": [],
   "source": []
  },
  {
   "cell_type": "code",
   "execution_count": null,
   "id": "9e56a8b2-9ac5-4ba1-885a-6f5c0cf35fff",
   "metadata": {},
   "outputs": [],
   "source": []
  },
  {
   "cell_type": "code",
   "execution_count": null,
   "id": "80de7d56-6a06-407e-a633-f626575be0f0",
   "metadata": {},
   "outputs": [],
   "source": []
  }
 ],
 "metadata": {
  "kernelspec": {
   "display_name": "Python 3 (ipykernel)",
   "language": "python",
   "name": "python3"
  },
  "language_info": {
   "codemirror_mode": {
    "name": "ipython",
    "version": 3
   },
   "file_extension": ".py",
   "mimetype": "text/x-python",
   "name": "python",
   "nbconvert_exporter": "python",
   "pygments_lexer": "ipython3",
   "version": "3.10.9"
  }
 },
 "nbformat": 4,
 "nbformat_minor": 5
}
